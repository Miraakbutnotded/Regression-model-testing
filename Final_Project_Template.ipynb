{
 "cells": [
  {
   "cell_type": "markdown",
   "metadata": {},
   "source": [
    "<p style=\"text-align:center\">\n",
    "    <a href=\"https://skills.network/?utm_medium=Exinfluencer&utm_source=Exinfluencer&utm_content=000026UJ&utm_term=10006555&utm_id=NA-SkillsNetwork-Channel-SkillsNetworkCoursesIBMDeveloperSkillsNetworkML0101ENSkillsNetwork20718538-2022-01-01\">\n",
    "    <img src=\"https://cf-courses-data.s3.us.cloud-object-storage.appdomain.cloud/assets/logos/SN_web_lightmode.png\" width=\"200\" alt=\"Skills Network Logo\"  />\n",
    "    </a>\n",
    "</p>\n",
    "\n",
    "<h1 align=\"center\"><font size=\"5\">Supervised Machine Learning: Regression - Final Assignment</font></h1>\n"
   ]
  },
  {
   "cell_type": "markdown",
   "source": [
    "# 1. About the Data\n",
    "\n",
    "This data set's name is \"Vehicle dataset\". It is taken from Kaggle.com, here is the link to website incase you need it:\n",
    "https://www.kaggle.com/datasets/nehalbirla/vehicle-dataset-from-cardekho/data?select=car+data.csv\n",
    "The model we are going to make will be focused on prediction.\n",
    "Data set includes information about car business. It includes information about car's sold price, current price and model etc.\n",
    "Here is a list of columns in our dataset:\n",
    "\n",
    "name (model of the car)\n",
    "year (model's manifactured year)\n",
    "selling_price (price it was sold)\n",
    "km_driven (Kilometers driven)\n",
    "fuel (Fuel type, could be diesel, motorin)\n",
    "seller_type (Type of the seller, could be dealer, individual)\n",
    "transmission (Manuel or Automatic)\n",
    "Owner (Number of owners car had)\n"
   ],
   "metadata": {
    "collapsed": false
   }
  },
  {
   "cell_type": "markdown",
   "source": [
    "# 2. Objectives\n",
    "\n",
    "Our objective is to find the best model for predicting a car's sold price by using Linear regression models.\n",
    "We are going to use 3 regression models,  Linear regression, Ridge Regression and Lasso regression.\n",
    "In this process we are going to compare our results (mean squared error) first without further enforcement on our data.\n",
    "After that we are going to use a pipe to get mean squared error by playing our dimensions."
   ],
   "metadata": {
    "collapsed": false
   }
  },
  {
   "cell_type": "markdown",
   "metadata": {},
   "source": [
    "The following required modules are pre-installed in the Skills Network Labs environment. However if you run this notebook commands in a different Jupyter environment (e.g. Watson Studio or Ananconda) you will need to install these libraries by removing the `#` sign before `!mamba` in the code cell below.\n"
   ]
  },
  {
   "cell_type": "code",
   "execution_count": 2,
   "metadata": {
    "ExecuteTime": {
     "end_time": "2024-04-04T19:36:47.744935Z",
     "start_time": "2024-04-04T19:36:47.742734Z"
    }
   },
   "outputs": [],
   "source": [
    "# All Libraries required for this lab are listed below. The libraries pre-installed on Skills Network Labs are commented.\n",
    "# !mamba install -qy pandas==1.3.4 numpy==1.21.4 seaborn==0.9.0 matplotlib==3.5.0 scikit-learn==0.20.1\n",
    "# Note: If your environment doesn't support \"!mamba install\", use \"!pip install\""
   ]
  },
  {
   "cell_type": "code",
   "execution_count": 3,
   "metadata": {
    "ExecuteTime": {
     "end_time": "2024-04-04T19:36:48.079193Z",
     "start_time": "2024-04-04T19:36:47.814033Z"
    }
   },
   "outputs": [],
   "source": [
    "import pandas\n",
    "import pandas as pd\n",
    "import numpy as np\n",
    "import seaborn as sns\n",
    "import matplotlib.pyplot as plt\n",
    "from sklearn.model_selection import train_test_split\n",
    "from sklearn.preprocessing import StandardScaler\n",
    "from sklearn.linear_model import LinearRegression, Ridge, Lasso\n",
    "from sklearn.preprocessing import PolynomialFeatures\n",
    "from sklearn.pipeline import Pipeline\n",
    "from sklearn.metrics import mean_squared_error\n",
    "from sklearn.model_selection import cross_val_score, KFold, cross_val_predict, GridSearchCV"
   ]
  },
  {
   "cell_type": "markdown",
   "metadata": {},
   "source": [
    "Before you begin, you will need to choose a data set that you feel passionate about. You can brainstorm with your peers about great public data sets using the discussion board in this module.\n"
   ]
  },
  {
   "cell_type": "markdown",
   "metadata": {},
   "source": [
    "Read your chosen dataset into pandas dataframe:\n"
   ]
  },
  {
   "cell_type": "code",
   "outputs": [
    {
     "data": {
      "text/plain": "  Car_Name  Year  Selling_Price  Present_Price  Kms_Driven Fuel_Type  \\\n0     ritz  2014           3.35           5.59       27000    Petrol   \n1      sx4  2013           4.75           9.54       43000    Diesel   \n2     ciaz  2017           7.25           9.85        6900    Petrol   \n3  wagon r  2011           2.85           4.15        5200    Petrol   \n4    swift  2014           4.60           6.87       42450    Diesel   \n\n  Seller_Type Transmission  Owner  \n0      Dealer       Manual      0  \n1      Dealer       Manual      0  \n2      Dealer       Manual      0  \n3      Dealer       Manual      0  \n4      Dealer       Manual      0  ",
      "text/html": "<div>\n<style scoped>\n    .dataframe tbody tr th:only-of-type {\n        vertical-align: middle;\n    }\n\n    .dataframe tbody tr th {\n        vertical-align: top;\n    }\n\n    .dataframe thead th {\n        text-align: right;\n    }\n</style>\n<table border=\"1\" class=\"dataframe\">\n  <thead>\n    <tr style=\"text-align: right;\">\n      <th></th>\n      <th>Car_Name</th>\n      <th>Year</th>\n      <th>Selling_Price</th>\n      <th>Present_Price</th>\n      <th>Kms_Driven</th>\n      <th>Fuel_Type</th>\n      <th>Seller_Type</th>\n      <th>Transmission</th>\n      <th>Owner</th>\n    </tr>\n  </thead>\n  <tbody>\n    <tr>\n      <th>0</th>\n      <td>ritz</td>\n      <td>2014</td>\n      <td>3.35</td>\n      <td>5.59</td>\n      <td>27000</td>\n      <td>Petrol</td>\n      <td>Dealer</td>\n      <td>Manual</td>\n      <td>0</td>\n    </tr>\n    <tr>\n      <th>1</th>\n      <td>sx4</td>\n      <td>2013</td>\n      <td>4.75</td>\n      <td>9.54</td>\n      <td>43000</td>\n      <td>Diesel</td>\n      <td>Dealer</td>\n      <td>Manual</td>\n      <td>0</td>\n    </tr>\n    <tr>\n      <th>2</th>\n      <td>ciaz</td>\n      <td>2017</td>\n      <td>7.25</td>\n      <td>9.85</td>\n      <td>6900</td>\n      <td>Petrol</td>\n      <td>Dealer</td>\n      <td>Manual</td>\n      <td>0</td>\n    </tr>\n    <tr>\n      <th>3</th>\n      <td>wagon r</td>\n      <td>2011</td>\n      <td>2.85</td>\n      <td>4.15</td>\n      <td>5200</td>\n      <td>Petrol</td>\n      <td>Dealer</td>\n      <td>Manual</td>\n      <td>0</td>\n    </tr>\n    <tr>\n      <th>4</th>\n      <td>swift</td>\n      <td>2014</td>\n      <td>4.60</td>\n      <td>6.87</td>\n      <td>42450</td>\n      <td>Diesel</td>\n      <td>Dealer</td>\n      <td>Manual</td>\n      <td>0</td>\n    </tr>\n  </tbody>\n</table>\n</div>"
     },
     "execution_count": 4,
     "metadata": {},
     "output_type": "execute_result"
    }
   ],
   "source": [
    "## Importing the Dataset\n",
    "data = pd.read_csv(\"C:/Users\\plaoz/veri bilim/car data.csv\")\n",
    "data.head()"
   ],
   "metadata": {
    "collapsed": false,
    "ExecuteTime": {
     "end_time": "2024-04-04T19:36:48.094462Z",
     "start_time": "2024-04-04T19:36:48.080197Z"
    }
   },
   "execution_count": 4
  },
  {
   "cell_type": "code",
   "outputs": [
    {
     "data": {
      "text/plain": "              Year  Selling_Price  Present_Price     Kms_Driven       Owner\ncount   301.000000     301.000000     301.000000     301.000000  301.000000\nmean   2013.627907       4.661296       7.628472   36947.205980    0.043189\nstd       2.891554       5.082812       8.644115   38886.883882    0.247915\nmin    2003.000000       0.100000       0.320000     500.000000    0.000000\n25%    2012.000000       0.900000       1.200000   15000.000000    0.000000\n50%    2014.000000       3.600000       6.400000   32000.000000    0.000000\n75%    2016.000000       6.000000       9.900000   48767.000000    0.000000\nmax    2018.000000      35.000000      92.600000  500000.000000    3.000000",
      "text/html": "<div>\n<style scoped>\n    .dataframe tbody tr th:only-of-type {\n        vertical-align: middle;\n    }\n\n    .dataframe tbody tr th {\n        vertical-align: top;\n    }\n\n    .dataframe thead th {\n        text-align: right;\n    }\n</style>\n<table border=\"1\" class=\"dataframe\">\n  <thead>\n    <tr style=\"text-align: right;\">\n      <th></th>\n      <th>Year</th>\n      <th>Selling_Price</th>\n      <th>Present_Price</th>\n      <th>Kms_Driven</th>\n      <th>Owner</th>\n    </tr>\n  </thead>\n  <tbody>\n    <tr>\n      <th>count</th>\n      <td>301.000000</td>\n      <td>301.000000</td>\n      <td>301.000000</td>\n      <td>301.000000</td>\n      <td>301.000000</td>\n    </tr>\n    <tr>\n      <th>mean</th>\n      <td>2013.627907</td>\n      <td>4.661296</td>\n      <td>7.628472</td>\n      <td>36947.205980</td>\n      <td>0.043189</td>\n    </tr>\n    <tr>\n      <th>std</th>\n      <td>2.891554</td>\n      <td>5.082812</td>\n      <td>8.644115</td>\n      <td>38886.883882</td>\n      <td>0.247915</td>\n    </tr>\n    <tr>\n      <th>min</th>\n      <td>2003.000000</td>\n      <td>0.100000</td>\n      <td>0.320000</td>\n      <td>500.000000</td>\n      <td>0.000000</td>\n    </tr>\n    <tr>\n      <th>25%</th>\n      <td>2012.000000</td>\n      <td>0.900000</td>\n      <td>1.200000</td>\n      <td>15000.000000</td>\n      <td>0.000000</td>\n    </tr>\n    <tr>\n      <th>50%</th>\n      <td>2014.000000</td>\n      <td>3.600000</td>\n      <td>6.400000</td>\n      <td>32000.000000</td>\n      <td>0.000000</td>\n    </tr>\n    <tr>\n      <th>75%</th>\n      <td>2016.000000</td>\n      <td>6.000000</td>\n      <td>9.900000</td>\n      <td>48767.000000</td>\n      <td>0.000000</td>\n    </tr>\n    <tr>\n      <th>max</th>\n      <td>2018.000000</td>\n      <td>35.000000</td>\n      <td>92.600000</td>\n      <td>500000.000000</td>\n      <td>3.000000</td>\n    </tr>\n  </tbody>\n</table>\n</div>"
     },
     "execution_count": 5,
     "metadata": {},
     "output_type": "execute_result"
    }
   ],
   "source": [
    "data.describe()"
   ],
   "metadata": {
    "collapsed": false,
    "ExecuteTime": {
     "end_time": "2024-04-04T19:36:48.178731Z",
     "start_time": "2024-04-04T19:36:48.095468Z"
    }
   },
   "execution_count": 5
  },
  {
   "cell_type": "code",
   "outputs": [
    {
     "name": "stdout",
     "output_type": "stream",
     "text": [
      "<class 'pandas.core.frame.DataFrame'>\n",
      "RangeIndex: 301 entries, 0 to 300\n",
      "Data columns (total 9 columns):\n",
      " #   Column         Non-Null Count  Dtype  \n",
      "---  ------         --------------  -----  \n",
      " 0   Car_Name       301 non-null    object \n",
      " 1   Year           301 non-null    int64  \n",
      " 2   Selling_Price  301 non-null    float64\n",
      " 3   Present_Price  301 non-null    float64\n",
      " 4   Kms_Driven     301 non-null    int64  \n",
      " 5   Fuel_Type      301 non-null    object \n",
      " 6   Seller_Type    301 non-null    object \n",
      " 7   Transmission   301 non-null    object \n",
      " 8   Owner          301 non-null    int64  \n",
      "dtypes: float64(2), int64(3), object(4)\n",
      "memory usage: 21.3+ KB\n"
     ]
    }
   ],
   "source": [
    "data.info()"
   ],
   "metadata": {
    "collapsed": false,
    "ExecuteTime": {
     "end_time": "2024-04-04T19:36:48.185188Z",
     "start_time": "2024-04-04T19:36:48.179740Z"
    }
   },
   "execution_count": 6
  },
  {
   "cell_type": "code",
   "outputs": [
    {
     "data": {
      "text/plain": "Index(['Year', 'Selling_Price', 'Present_Price', 'Kms_Driven', 'Owner',\n       'Car_Name_800', 'Car_Name_Activa 3g', 'Car_Name_Activa 4g',\n       'Car_Name_Bajaj  ct 100', 'Car_Name_Bajaj Avenger 150',\n       ...\n       'Car_Name_vitara brezza', 'Car_Name_wagon r', 'Car_Name_xcent',\n       'Fuel_Type_CNG', 'Fuel_Type_Diesel', 'Fuel_Type_Petrol',\n       'Seller_Type_Dealer', 'Seller_Type_Individual',\n       'Transmission_Automatic', 'Transmission_Manual'],\n      dtype='object', length=110)"
     },
     "execution_count": 7,
     "metadata": {},
     "output_type": "execute_result"
    }
   ],
   "source": [
    "data = pd.get_dummies(data = data)\n",
    "data.columns"
   ],
   "metadata": {
    "collapsed": false,
    "ExecuteTime": {
     "end_time": "2024-04-04T19:36:48.192342Z",
     "start_time": "2024-04-04T19:36:48.186193Z"
    }
   },
   "execution_count": 7
  },
  {
   "cell_type": "code",
   "outputs": [
    {
     "data": {
      "text/plain": "Text(0.5, 1.0, 'Year vs Price')"
     },
     "execution_count": 8,
     "metadata": {},
     "output_type": "execute_result"
    },
    {
     "data": {
      "text/plain": "<Figure size 640x480 with 1 Axes>",
      "image/png": "[encoded data removed]"
     },
     "metadata": {},
     "output_type": "display_data"
    }
   ],
   "source": [
    "data_grouped = data.groupby(\"Year\")[\"Selling_Price\"].mean().reset_index()\n",
    "sns.barplot(data = data_grouped, x = \"Year\", y = \"Selling_Price\")\n",
    "plt.xticks(rotation = 90)\n",
    "plt.xlabel(\"Model Year\")\n",
    "plt.ylabel(\"Price-k\")\n",
    "plt.title(\"Year vs Price\")"
   ],
   "metadata": {
    "collapsed": false,
    "ExecuteTime": {
     "end_time": "2024-04-04T19:36:48.360348Z",
     "start_time": "2024-04-04T19:36:48.192342Z"
    }
   },
   "execution_count": 8
  },
  {
   "cell_type": "code",
   "outputs": [
    {
     "data": {
      "text/plain": "Year                      0\nSelling_Price             0\nPresent_Price             0\nKms_Driven                0\nOwner                     0\n                         ..\nFuel_Type_Petrol          0\nSeller_Type_Dealer        0\nSeller_Type_Individual    0\nTransmission_Automatic    0\nTransmission_Manual       0\nLength: 110, dtype: int64"
     },
     "execution_count": 9,
     "metadata": {},
     "output_type": "execute_result"
    }
   ],
   "source": [
    "nan_sum = data.isna().sum()\n",
    "nan_sum "
   ],
   "metadata": {
    "collapsed": false,
    "ExecuteTime": {
     "end_time": "2024-04-04T19:36:48.365792Z",
     "start_time": "2024-04-04T19:36:48.361352Z"
    }
   },
   "execution_count": 9
  },
  {
   "cell_type": "markdown",
   "source": [
    "There is no NaN values, great!"
   ],
   "metadata": {
    "collapsed": false
   }
  },
  {
   "cell_type": "code",
   "outputs": [
    {
     "name": "stderr",
     "output_type": "stream",
     "text": [
      "C:\\Users\\plaoz\\anaconda3\\Lib\\site-packages\\seaborn\\_oldcore.py:1119: FutureWarning: use_inf_as_na option is deprecated and will be removed in a future version. Convert inf values to NaN before operating instead.\n",
      "  with pd.option_context('mode.use_inf_as_na', True):\n",
      "C:\\Users\\plaoz\\anaconda3\\Lib\\site-packages\\seaborn\\_oldcore.py:1119: FutureWarning: use_inf_as_na option is deprecated and will be removed in a future version. Convert inf values to NaN before operating instead.\n",
      "  with pd.option_context('mode.use_inf_as_na', True):\n",
      "C:\\Users\\plaoz\\anaconda3\\Lib\\site-packages\\seaborn\\_oldcore.py:1119: FutureWarning: use_inf_as_na option is deprecated and will be removed in a future version. Convert inf values to NaN before operating instead.\n",
      "  with pd.option_context('mode.use_inf_as_na', True):\n",
      "C:\\Users\\plaoz\\anaconda3\\Lib\\site-packages\\seaborn\\_oldcore.py:1119: FutureWarning: use_inf_as_na option is deprecated and will be removed in a future version. Convert inf values to NaN before operating instead.\n",
      "  with pd.option_context('mode.use_inf_as_na', True):\n"
     ]
    },
    {
     "data": {
      "text/plain": "<Axes: xlabel='Year', ylabel='Selling_Price'>"
     },
     "execution_count": 10,
     "metadata": {},
     "output_type": "execute_result"
    },
    {
     "data": {
      "text/plain": "<Figure size 640x480 with 1 Axes>",
      "image/png": "[encoded data removed]"
     },
     "metadata": {},
     "output_type": "display_data"
    }
   ],
   "source": [
    "sns.lineplot(data=data, x=\"Year\", y=\"Selling_Price\", label=\"Selling Price\")\n",
    "sns.lineplot(data=data, x=\"Year\", y=\"Present_Price\", label=\"Present Price\")"
   ],
   "metadata": {
    "collapsed": false,
    "ExecuteTime": {
     "end_time": "2024-04-04T19:36:48.708012Z",
     "start_time": "2024-04-04T19:36:48.366797Z"
    }
   },
   "execution_count": 10
  },
  {
   "cell_type": "markdown",
   "source": [
    "I wanted to see the price movement by myself. This data is already almost ready to be fed into a model."
   ],
   "metadata": {
    "collapsed": false
   }
  },
  {
   "cell_type": "code",
   "outputs": [],
   "source": [
    "X = data.drop(\"Selling_Price\", axis = 1)\n",
    "y = data[\"Selling_Price\"]"
   ],
   "metadata": {
    "collapsed": false,
    "ExecuteTime": {
     "end_time": "2024-04-04T19:36:48.711703Z",
     "start_time": "2024-04-04T19:36:48.709017Z"
    }
   },
   "execution_count": 11
  },
  {
   "cell_type": "markdown",
   "source": [
    "We seperate our Selling Price column, which is our target variable."
   ],
   "metadata": {
    "collapsed": false
   }
  },
  {
   "cell_type": "markdown",
   "source": [
    "# 3. Linear Regression Models"
   ],
   "metadata": {
    "collapsed": false
   }
  },
  {
   "cell_type": "code",
   "outputs": [],
   "source": [
    "#X_train, y_train, X_test, y_test = train_test_split(X, y, test_size=0.2, random_state=11)"
   ],
   "metadata": {
    "collapsed": false,
    "ExecuteTime": {
     "end_time": "2024-04-04T19:36:48.714550Z",
     "start_time": "2024-04-04T19:36:48.712709Z"
    }
   },
   "execution_count": 12
  },
  {
   "cell_type": "markdown",
   "source": [
    "In this part I created a pipeline for every single model"
   ],
   "metadata": {
    "collapsed": false
   }
  },
  {
   "cell_type": "code",
   "outputs": [],
   "source": [
    "pipeline_lr = Pipeline([\n",
    "    (\"scaler\", StandardScaler()),\n",
    "    (\"model\", LinearRegression())\n",
    "])\n",
    "pipeline_ridge = Pipeline([\n",
    "    (\"scaler\", StandardScaler()),\n",
    "    (\"model\", Ridge())\n",
    "])\n",
    "pipeline_lasso = Pipeline([\n",
    "    (\"scaler\", StandardScaler()),\n",
    "    (\"model\", Lasso())\n",
    "])\n",
    "\n",
    "pipelines = {\"Linear_Regression\": pipeline_lr, \"Ridge\" : pipeline_ridge, \"Lasso\" : pipeline_lasso}"
   ],
   "metadata": {
    "collapsed": false,
    "ExecuteTime": {
     "end_time": "2024-04-04T19:36:48.718006Z",
     "start_time": "2024-04-04T19:36:48.714550Z"
    }
   },
   "execution_count": 13
  },
  {
   "cell_type": "code",
   "outputs": [],
   "source": [
    "kf = KFold(n_splits= 5, shuffle = True, random_state= 55)"
   ],
   "metadata": {
    "collapsed": false,
    "ExecuteTime": {
     "end_time": "2024-04-04T19:36:48.720883Z",
     "start_time": "2024-04-04T19:36:48.719012Z"
    }
   },
   "execution_count": 14
  },
  {
   "cell_type": "code",
   "outputs": [
    {
     "name": "stdout",
     "output_type": "stream",
     "text": [
      "Model: Linear_Regression, mean mse: 499367229831246253708541952.0000\n",
      "Model: Ridge, mean mse: 7.3889\n",
      "Model: Lasso, mean mse: 6.5390\n"
     ]
    }
   ],
   "source": [
    "for name, pipeline in pipelines.items():\n",
    "    scores = cross_val_score(pipeline, X, y , cv = kf, scoring = \"neg_mean_squared_error\")\n",
    "    print(f\"Model: {name}, mean mse: {abs(scores.mean()):.4f}\")"
   ],
   "metadata": {
    "collapsed": false,
    "ExecuteTime": {
     "end_time": "2024-04-04T19:36:48.821168Z",
     "start_time": "2024-04-04T19:36:48.720883Z"
    }
   },
   "execution_count": 15
  },
  {
   "cell_type": "markdown",
   "source": [
    "We can compare our model performances. We can see that Lasso Regression gave us a better mean mse.\n",
    "There is a problem, Linear_Regression mean mse is too high to be true."
   ],
   "metadata": {
    "collapsed": false
   }
  },
  {
   "cell_type": "code",
   "outputs": [],
   "source": [
    "predictions = cross_val_predict(pipeline, X, y, cv = kf)"
   ],
   "metadata": {
    "collapsed": false,
    "ExecuteTime": {
     "end_time": "2024-04-04T19:36:52.119124Z",
     "start_time": "2024-04-04T19:36:52.096247Z"
    }
   },
   "execution_count": 16
  },
  {
   "cell_type": "markdown",
   "source": [
    " Now I am going to train 3 models again but this time we will increase our dimensions by using polynomial features. I will use a new pipeline where I only need to put the model name instead of creating a pipeline for every model like the previous test."
   ],
   "metadata": {
    "collapsed": false
   }
  },
  {
   "cell_type": "code",
   "outputs": [
    {
     "data": {
      "text/plain": "GridSearchCV(cv=KFold(n_splits=5, random_state=55, shuffle=True),\n             estimator=Pipeline(steps=[('poly', PolynomialFeatures()),\n                                       ('scaler', StandardScaler()),\n                                       ('model', None)]),\n             param_grid={'model': [LinearRegression(), Ridge(),\n                                   Lasso(max_iter=10000)],\n                         'poly__degree': [1, 2, 3]},\n             scoring='neg_mean_squared_error')",
      "text/html": "<style>#sk-container-id-6 {color: black;background-color: white;}#sk-container-id-6 pre{padding: 0;}#sk-container-id-6 div.sk-toggleable {background-color: white;}#sk-container-id-6 label.sk-toggleable__label {cursor: pointer;display: block;width: 100%;margin-bottom: 0;padding: 0.3em;box-sizing: border-box;text-align: center;}#sk-container-id-6 label.sk-toggleable__label-arrow:before {content: \"▸\";float: left;margin-right: 0.25em;color: #696969;}#sk-container-id-6 label.sk-toggleable__label-arrow:hover:before {color: black;}#sk-container-id-6 div.sk-estimator:hover label.sk-toggleable__label-arrow:before {color: black;}#sk-container-id-6 div.sk-toggleable__content {max-height: 0;max-width: 0;overflow: hidden;text-align: left;background-color: #f0f8ff;}#sk-container-id-6 div.sk-toggleable__content pre {margin: 0.2em;color: black;border-radius: 0.25em;background-color: #f0f8ff;}#sk-container-id-6 input.sk-toggleable__control:checked~div.sk-toggleable__content {max-height: 200px;max-width: 100%;overflow: auto;}#sk-container-id-6 input.sk-toggleable__control:checked~label.sk-toggleable__label-arrow:before {content: \"▾\";}#sk-container-id-6 div.sk-estimator input.sk-toggleable__control:checked~label.sk-toggleable__label {background-color: #d4ebff;}#sk-container-id-6 div.sk-label input.sk-toggleable__control:checked~label.sk-toggleable__label {background-color: #d4ebff;}#sk-container-id-6 input.sk-hidden--visually {border: 0;clip: rect(1px 1px 1px 1px);clip: rect(1px, 1px, 1px, 1px);height: 1px;margin: -1px;overflow: hidden;padding: 0;position: absolute;width: 1px;}#sk-container-id-6 div.sk-estimator {font-family: monospace;background-color: #f0f8ff;border: 1px dotted black;border-radius: 0.25em;box-sizing: border-box;margin-bottom: 0.5em;}#sk-container-id-6 div.sk-estimator:hover {background-color: #d4ebff;}#sk-container-id-6 div.sk-parallel-item::after {content: \"\";width: 100%;border-bottom: 1px solid gray;flex-grow: 1;}#sk-container-id-6 div.sk-label:hover label.sk-toggleable__label {background-color: #d4ebff;}#sk-container-id-6 div.sk-serial::before {content: \"\";position: absolute;border-left: 1px solid gray;box-sizing: border-box;top: 0;bottom: 0;left: 50%;z-index: 0;}#sk-container-id-6 div.sk-serial {display: flex;flex-direction: column;align-items: center;background-color: white;padding-right: 0.2em;padding-left: 0.2em;position: relative;}#sk-container-id-6 div.sk-item {position: relative;z-index: 1;}#sk-container-id-6 div.sk-parallel {display: flex;align-items: stretch;justify-content: center;background-color: white;position: relative;}#sk-container-id-6 div.sk-item::before, #sk-container-id-6 div.sk-parallel-item::before {content: \"\";position: absolute;border-left: 1px solid gray;box-sizing: border-box;top: 0;bottom: 0;left: 50%;z-index: -1;}#sk-container-id-6 div.sk-parallel-item {display: flex;flex-direction: column;z-index: 1;position: relative;background-color: white;}#sk-container-id-6 div.sk-parallel-item:first-child::after {align-self: flex-end;width: 50%;}#sk-container-id-6 div.sk-parallel-item:last-child::after {align-self: flex-start;width: 50%;}#sk-container-id-6 div.sk-parallel-item:only-child::after {width: 0;}#sk-container-id-6 div.sk-dashed-wrapped {border: 1px dashed gray;margin: 0 0.4em 0.5em 0.4em;box-sizing: border-box;padding-bottom: 0.4em;background-color: white;}#sk-container-id-6 div.sk-label label {font-family: monospace;font-weight: bold;display: inline-block;line-height: 1.2em;}#sk-container-id-6 div.sk-label-container {text-align: center;}#sk-container-id-6 div.sk-container {/* jupyter's `normalize.less` sets `[hidden] { display: none; }` but bootstrap.min.css set `[hidden] { display: none !important; }` so we also need the `!important` here to be able to override the default hidden behavior on the sphinx rendered scikit-learn.org. See: https://github.com/scikit-learn/scikit-learn/issues/21755 */display: inline-block !important;position: relative;}#sk-container-id-6 div.sk-text-repr-fallback {display: none;}</style><div id=\"sk-container-id-6\" class=\"sk-top-container\"><div class=\"sk-text-repr-fallback\"><pre>GridSearchCV(cv=KFold(n_splits=5, random_state=55, shuffle=True),\n             estimator=Pipeline(steps=[(&#x27;poly&#x27;, PolynomialFeatures()),\n                                       (&#x27;scaler&#x27;, StandardScaler()),\n                                       (&#x27;model&#x27;, None)]),\n             param_grid={&#x27;model&#x27;: [LinearRegression(), Ridge(),\n                                   Lasso(max_iter=10000)],\n                         &#x27;poly__degree&#x27;: [1, 2, 3]},\n             scoring=&#x27;neg_mean_squared_error&#x27;)</pre><b>In a Jupyter environment, please rerun this cell to show the HTML representation or trust the notebook. <br />On GitHub, the HTML representation is unable to render, please try loading this page with nbviewer.org.</b></div><div class=\"sk-container\" hidden><div class=\"sk-item sk-dashed-wrapped\"><div class=\"sk-label-container\"><div class=\"sk-label sk-toggleable\"><input class=\"sk-toggleable__control sk-hidden--visually\" id=\"sk-estimator-id-17\" type=\"checkbox\" ><label for=\"sk-estimator-id-17\" class=\"sk-toggleable__label sk-toggleable__label-arrow\">GridSearchCV</label><div class=\"sk-toggleable__content\"><pre>GridSearchCV(cv=KFold(n_splits=5, random_state=55, shuffle=True),\n             estimator=Pipeline(steps=[(&#x27;poly&#x27;, PolynomialFeatures()),\n                                       (&#x27;scaler&#x27;, StandardScaler()),\n                                       (&#x27;model&#x27;, None)]),\n             param_grid={&#x27;model&#x27;: [LinearRegression(), Ridge(),\n                                   Lasso(max_iter=10000)],\n                         &#x27;poly__degree&#x27;: [1, 2, 3]},\n             scoring=&#x27;neg_mean_squared_error&#x27;)</pre></div></div></div><div class=\"sk-parallel\"><div class=\"sk-parallel-item\"><div class=\"sk-item\"><div class=\"sk-label-container\"><div class=\"sk-label sk-toggleable\"><input class=\"sk-toggleable__control sk-hidden--visually\" id=\"sk-estimator-id-18\" type=\"checkbox\" ><label for=\"sk-estimator-id-18\" class=\"sk-toggleable__label sk-toggleable__label-arrow\">estimator: Pipeline</label><div class=\"sk-toggleable__content\"><pre>Pipeline(steps=[(&#x27;poly&#x27;, PolynomialFeatures()), (&#x27;scaler&#x27;, StandardScaler()),\n                (&#x27;model&#x27;, None)])</pre></div></div></div><div class=\"sk-serial\"><div class=\"sk-item\"><div class=\"sk-serial\"><div class=\"sk-item\"><div class=\"sk-estimator sk-toggleable\"><input class=\"sk-toggleable__control sk-hidden--visually\" id=\"sk-estimator-id-19\" type=\"checkbox\" ><label for=\"sk-estimator-id-19\" class=\"sk-toggleable__label sk-toggleable__label-arrow\">PolynomialFeatures</label><div class=\"sk-toggleable__content\"><pre>PolynomialFeatures()</pre></div></div></div><div class=\"sk-item\"><div class=\"sk-estimator sk-toggleable\"><input class=\"sk-toggleable__control sk-hidden--visually\" id=\"sk-estimator-id-20\" type=\"checkbox\" ><label for=\"sk-estimator-id-20\" class=\"sk-toggleable__label sk-toggleable__label-arrow\">StandardScaler</label><div class=\"sk-toggleable__content\"><pre>StandardScaler()</pre></div></div></div><div class=\"sk-item\"><div class=\"sk-estimator sk-toggleable\"><input class=\"sk-toggleable__control sk-hidden--visually\" id=\"sk-estimator-id-21\" type=\"checkbox\" ><label for=\"sk-estimator-id-21\" class=\"sk-toggleable__label sk-toggleable__label-arrow\">None</label><div class=\"sk-toggleable__content\"><pre>None</pre></div></div></div></div></div></div></div></div></div></div></div></div>"
     },
     "execution_count": 69,
     "metadata": {},
     "output_type": "execute_result"
    }
   ],
   "source": [
    "models = [(\"Linear_Regression\", LinearRegression()),\n",
    "          (\"Ridge\" , Ridge()),\n",
    "          (\"Lasso\" , Lasso(max_iter=10000))]\n",
    "\n",
    "full_pipeline = Pipeline([\n",
    "    (\"poly\", PolynomialFeatures()),\n",
    "    (\"scaler\", StandardScaler()),\n",
    "    (\"model\", None) #I place a place holder here so we can put the model we want\n",
    "])\n",
    "\n",
    "param_grid = {\n",
    "    \"poly__degree\": [1,2,3],\n",
    "    \"model\": [model for _, model in models] #Models we are going to test\n",
    "}\n",
    "\n",
    "grid_search = GridSearchCV(full_pipeline, param_grid, scoring=\"neg_mean_squared_error\", cv = kf)\n",
    "grid_search.fit(X, y)"
   ],
   "metadata": {
    "collapsed": false,
    "ExecuteTime": {
     "end_time": "2024-04-04T13:43:17.918472Z",
     "start_time": "2024-04-04T13:42:49.462179Z"
    }
   },
   "execution_count": 69
  },
  {
   "cell_type": "code",
   "outputs": [
    {
     "name": "stdout",
     "output_type": "stream",
     "text": [
      "Number of features in the best model:  227920\n",
      "Best parameters: {'model': Lasso(max_iter=10000), 'poly__degree': 3}\n",
      "Best absolute Mean Squared Error: 6.1028889108403535\n"
     ]
    }
   ],
   "source": [
    "best_model = grid_search.best_estimator_\n",
    "coefficients = best_model[2].coef_\n",
    "len_coef = len(coefficients)\n",
    "print(\"Number of features in the best model: \", len_coef)\n",
    "print(\"Best parameters:\", grid_search.best_params_)\n",
    "print(\"Best absolute Mean Squared Error:\", abs(grid_search.best_score_))"
   ],
   "metadata": {
    "collapsed": false,
    "ExecuteTime": {
     "end_time": "2024-04-04T13:59:03.577148Z",
     "start_time": "2024-04-04T13:59:03.574040Z"
    }
   },
   "execution_count": 115
  },
  {
   "cell_type": "markdown",
   "source": [
    "this is a problematic part because I am not sure If this realy counted created features."
   ],
   "metadata": {
    "collapsed": false
   }
  },
  {
   "cell_type": "markdown",
   "source": [],
   "metadata": {
    "collapsed": false
   }
  },
  {
   "cell_type": "code",
   "outputs": [
    {
     "name": "stdout",
     "output_type": "stream",
     "text": [
      "Our target pipline:  {'model': Lasso(max_iter=10000), 'poly__degree': 3}\n",
      "Number of features:  436\n"
     ]
    }
   ],
   "source": [
    "cv_results = grid_search.cv_results_\n",
    "target = cv_results[\"params\"][8] #This is the best model which our grid_search gave us.\n",
    "poly_degree = target[\"poly__degree\"]\n",
    "feature_num = X.shape[1] * (poly_degree + 1)\n",
    "print(\"Our target pipline: \", target)\n",
    "print(\"Number of features: \", feature_num)"
   ],
   "metadata": {
    "collapsed": false,
    "ExecuteTime": {
     "end_time": "2024-04-04T14:32:03.667455Z",
     "start_time": "2024-04-04T14:32:03.663503Z"
    }
   },
   "execution_count": 141
  },
  {
   "cell_type": "code",
   "outputs": [
    {
     "name": "stdout",
     "output_type": "stream",
     "text": [
      "Our target pipline:  {'model': LinearRegression(), 'poly__degree': 1}\n",
      "Number of features:  218\n"
     ]
    }
   ],
   "source": [
    "cv_results = grid_search.cv_results_\n",
    "target = cv_results[\"params\"][0]\n",
    "poly_degree = target[\"poly__degree\"]\n",
    "feature_num = X.shape[1] * (poly_degree + 1)\n",
    "print(\"Our target pipline: \", target)\n",
    "print(\"Number of features: \", feature_num)"
   ],
   "metadata": {
    "collapsed": false,
    "ExecuteTime": {
     "end_time": "2024-04-04T17:19:10.743947Z",
     "start_time": "2024-04-04T17:19:10.740336Z"
    }
   },
   "execution_count": 143
  },
  {
   "cell_type": "markdown",
   "source": [
    "We can see that our normal data has 218 features during LinearRegression. \n",
    "However in our best model that feature number has risen up to 436 since we increased our degree"
   ],
   "metadata": {
    "collapsed": false
   }
  },
  {
   "cell_type": "markdown",
   "source": [
    "# 4. Insights and key findings"
   ],
   "metadata": {
    "collapsed": false
   }
  },
  {
   "cell_type": "markdown",
   "source": [
    "First we trained our Linear regression, Ridge and Lasso regression without playing with the degree and made sure there were no problems.\n",
    "We found out that Lasso regression performes better after seeing the results as:\n",
    "\n",
    "Model: Linear_Regression, mean mse: 499367229831246253708541952.0000\n",
    "Model: Ridge, mean mse: 7.3889\n",
    "Model: Lasso, mean mse: 6.5390\n",
    "\n",
    "Smaller mse means better performance but as you can see there is a weird result. Linear_Regression mean mse is too high to be real. But I couldn't find the reason."
   ],
   "metadata": {
    "collapsed": false
   }
  },
  {
   "cell_type": "markdown",
   "source": [
    "After this step lets try to add new features into our model by using polynomial features. BY using this we will increase the degree of our models.\n",
    "What it basically does is creating new features from existing ones. We used cross validation with Kfold to see multiple degrees."
   ],
   "metadata": {
    "collapsed": false
   }
  },
  {
   "cell_type": "markdown",
   "source": [
    "After our models are trained grid_search gave us the best result with best hyperparameters. This model is Lasso Regression with the degree 3. We allowed Lasso to iterate 10000 times because with the default settings iteration ends before Lasso manages to find the optimal result. We see that Lasso performed better that Ridge and Linear Regression in both parts. This is most likely caused by the fact that Lasso enforces features which are insignificant to shrink to 0."
   ],
   "metadata": {
    "collapsed": false
   }
  },
  {
   "cell_type": "markdown",
   "source": [
    "In the last step wee see the feature number difference calculated by using degree. The first one is Lasso Regression with degree of 1. The second one is Linear Regression, as you can see incresing the degree creates new features."
   ],
   "metadata": {
    "collapsed": false
   }
  },
  {
   "cell_type": "markdown",
   "metadata": {},
   "source": [
    "As next steps we can try to find out why did the Linear regression gave us such a high mean squared error et the start of the code. Also we can try to find out if our self proclaimed feature number calculation is correct. I still have doubts that is incorrect because there are actually only 1 non-zero feature left on that model which sound unlikely."
   ]
  },
  {
   "cell_type": "markdown",
   "metadata": {},
   "source": []
  },
  {
   "cell_type": "markdown",
   "metadata": {},
   "source": [
    "## <h3 align=\"center\"> © IBM Corporation 2020. All rights reserved. <h3/>\n"
   ]
  }
 ],
 "metadata": {
  "kernelspec": {
   "name": "python3",
   "language": "python",
   "display_name": "Python 3 (ipykernel)"
  },
  "language_info": {
   "name": ""
  }
 },
 "nbformat": 4,
 "nbformat_minor": 4
}
